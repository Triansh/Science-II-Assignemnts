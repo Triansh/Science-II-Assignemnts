{
 "cells": [
  {
   "cell_type": "code",
   "execution_count": 1,
   "metadata": {},
   "outputs": [],
   "source": [
    "import numpy as np\n",
    "\n",
    "k = 332.1\n",
    "A = 582000\n",
    "B = 595.0\n",
    "Lx = 23.623\n",
    "Ly = 22.406\n",
    "Lz = 27.1759"
   ]
  },
  {
   "cell_type": "code",
   "execution_count": 2,
   "metadata": {},
   "outputs": [],
   "source": [
    "points = []\n",
    "\n",
    "ids = []\n",
    "atoms = []\n",
    "charges = []\n",
    "\n",
    "elec_potential = 0\n",
    "vanderwaal_potential = 0\n",
    "\n",
    "pdb_file = open(\"./starting_config_300k.pdb\", 'r')\n",
    "psf_file = open(\"./ICES.psf\", 'r')\n",
    "\n",
    "for line in pdb_file:\n",
    "    line = line.split()\n",
    "    if len(line) <= 1: continue\n",
    "    atoms.append(line[2])\n",
    "    ids.append(float(line[4]))\n",
    "    points.append([float(x) for x in line[5:8]])\n",
    "\n",
    "for i, line in enumerate(psf_file):\n",
    "    if not (5 < i < 1302): continue\n",
    "    line = line.split()\n",
    "    charges.append(float(line[6]))"
   ]
  },
  {
   "cell_type": "code",
   "execution_count": 3,
   "metadata": {},
   "outputs": [
    {
     "name": "stdout",
     "output_type": "stream",
     "text": [
      "The Electrostatic Potential is equal to : -5159.430611238807 kcal/mol\n",
      "The Vanderwaal's Potential is equal to : 599.7631387966726 kcal/mol\n",
      "The Total potential is equal to : -4559.667472442134 kcal/mol\n"
     ]
    }
   ],
   "source": [
    "for i, atom1 in enumerate(atoms):\n",
    "    for j in range(i + 1, len(atoms)):\n",
    "        if ids[i] == ids[j]: continue\n",
    "        dx, dy, dz = np.abs(np.array(points[i]) - np.array(points[j]))\n",
    "        rx = dx - (round(dx / Lx) * Lx)\n",
    "        ry = dy - (round(dy / Ly) * Ly)\n",
    "        rz = dz - (round(dz / Lz) * Lz)\n",
    "        r = np.sqrt(np.sum(np.array([rx, ry, rz]) ** 2))\n",
    "        elec_potential += (k * charges[i] * charges[j]) / r\n",
    "        if atom1 == 'OH2' and atoms[j] == 'OH2':\n",
    "            vanderwaal_potential += (A / (r ** 12)) - (B / (r ** 6))\n",
    "\n",
    "print(\"The Electrostatic Potential is equal to :\", elec_potential, 'kcal/mol')\n",
    "print(\"The Vanderwaal's Potential is equal to :\", vanderwaal_potential, 'kcal/mol')\n",
    "print(\"The Total potential is equal to :\", elec_potential + vanderwaal_potential, 'kcal/mol')"
   ]
  },
  {
   "cell_type": "code",
   "execution_count": null,
   "metadata": {},
   "outputs": [],
   "source": []
  }
 ],
 "metadata": {
  "kernelspec": {
   "display_name": "Python 3",
   "language": "python",
   "name": "python3"
  },
  "language_info": {
   "codemirror_mode": {
    "name": "ipython",
    "version": 3
   },
   "file_extension": ".py",
   "mimetype": "text/x-python",
   "name": "python",
   "nbconvert_exporter": "python",
   "pygments_lexer": "ipython3",
   "version": "3.8.5"
  }
 },
 "nbformat": 4,
 "nbformat_minor": 5
}
