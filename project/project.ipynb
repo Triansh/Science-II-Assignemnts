{
 "cells": [
  {
   "cell_type": "code",
   "execution_count": 35,
   "metadata": {},
   "outputs": [],
   "source": [
    "import numpy as np\n",
    "from numpy import linalg as LA\n",
    "import matplotlib.pyplot as plt\n",
    "import copy\n",
    "from multiprocessing import Pool, Manager\n",
    "import functools"
   ]
  },
  {
   "cell_type": "code",
   "execution_count": 36,
   "metadata": {},
   "outputs": [],
   "source": [
    "N = 108\n",
    "Lx = Ly = Lz = 18\n",
    "sigma = 3.4\n",
    "eps = .238\n",
    "\n",
    "L = np.array([Lx, Ly, Lz])"
   ]
  },
  {
   "cell_type": "markdown",
   "metadata": {},
   "source": [
    "## Some common functions used throughout the code"
   ]
  },
  {
   "cell_type": "code",
   "execution_count": 37,
   "metadata": {},
   "outputs": [],
   "source": [
    "def get_distance(A, B):\n",
    "    d = B - A\n",
    "    r = d - (np.round(d / L) * L)\n",
    "    return np.sqrt(np.sum(r ** 2))"
   ]
  },
  {
   "cell_type": "code",
   "execution_count": 38,
   "metadata": {},
   "outputs": [],
   "source": [
    "def get_random(x):\n",
    "    return np.random.uniform(0, x)"
   ]
  },
  {
   "cell_type": "code",
   "execution_count": 39,
   "metadata": {},
   "outputs": [],
   "source": [
    "def read_file(filepath):\n",
    "    points = np.zeros((N, 3))\n",
    "    with open(filepath) as f:\n",
    "        data = f.read().split('\\n')\n",
    "        for idx, line in enumerate(data[2:]):\n",
    "            a = line.split()\n",
    "            points[idx] = np.array([float(x) for x in a[1:]])\n",
    "    return points"
   ]
  },
  {
   "cell_type": "markdown",
   "metadata": {},
   "source": [
    "## Creating the initial Configuration\n",
    "The following is the code for getting the configuartion. The following could take a lot of time in running. Hence, a random configuration is already made in `configuration.txt` file provided which is used in further sections. On running the code, the new configuration will be made in `configurationEval.txt`"
   ]
  },
  {
   "cell_type": "code",
   "execution_count": 11,
   "metadata": {},
   "outputs": [],
   "source": [
    "def write_config_file(filepath, points):\n",
    "    with open(filepath, 'w') as fd:\n",
    "        print(points.shape[0], file=fd)\n",
    "        print(\"#comment initial random config\", file=fd)\n",
    "        for c in points:\n",
    "            print(f\"C {c[0]} {c[1]} {c[2]}\", file=fd)"
   ]
  },
  {
   "cell_type": "code",
   "execution_count": 12,
   "metadata": {},
   "outputs": [],
   "source": [
    "def get_configuration():\n",
    "    configuration = []\n",
    "    while len(configuration) < N:\n",
    "        A = np.array([get_random(x) for x in L])\n",
    "        got = True\n",
    "        for B in configuration:\n",
    "            if get_distance(A, B) < sigma:\n",
    "                got = 0\n",
    "                break\n",
    "        if got:\n",
    "            configuration.append(A)\n",
    "    return np.array(configuration)"
   ]
  },
  {
   "cell_type": "code",
   "execution_count": null,
   "metadata": {},
   "outputs": [],
   "source": [
    "configuration = get_configuration()\n",
    "write_config_file(\"./configurationEval.txt\", configuration)"
   ]
  },
  {
   "cell_type": "markdown",
   "metadata": {},
   "source": [
    "## Total Interaction Energy\n",
    "The following code snippet calculates the total interaction energy of the configuration"
   ]
  },
  {
   "cell_type": "code",
   "execution_count": 40,
   "metadata": {},
   "outputs": [],
   "source": [
    "def get_pair_interaction_energy(A, B):\n",
    "    r = get_distance(A, B)\n",
    "    z = sigma / r\n",
    "    E = 4 * eps * ((z ** 12) - (z ** 6))\n",
    "    return E"
   ]
  },
  {
   "cell_type": "code",
   "execution_count": 41,
   "metadata": {},
   "outputs": [],
   "source": [
    "def get_total_interaction(points):\n",
    "    interaction = sum(\n",
    "        [get_pair_interaction_energy(x, points[j]) for i, x in enumerate(points)\n",
    "         for j in range(i + 1, len(points))])\n",
    "    return interaction"
   ]
  },
  {
   "cell_type": "code",
   "execution_count": 42,
   "metadata": {},
   "outputs": [
    {
     "name": "stdout",
     "output_type": "stream",
     "text": [
      "The total interaction energy for the following configuration is equal to -122.63092381976412 kcal/mol\n"
     ]
    }
   ],
   "source": [
    "points = read_file('./configuration.txt')\n",
    "\n",
    "interaction = get_total_interaction(points)\n",
    "print('The total interaction energy for the following configuration is equal to', interaction,\n",
    "      'kcal/mol')\n"
   ]
  },
  {
   "cell_type": "markdown",
   "metadata": {},
   "source": [
    "## Minimizing the total Potential Energy\n",
    "The configuration for minimum possible energy is written in `new_configuration.txt`. The subsequent pieces of code use this configuration, hence on running the following the pieces of code, the new set of points are stored in `new_configurationEval.txt` to prevent data loss."
   ]
  },
  {
   "cell_type": "code",
   "execution_count": 43,
   "metadata": {},
   "outputs": [],
   "source": [
    "def get_pair_force(A, B):\n",
    "    d = B - A\n",
    "    rab = d - (np.round(d / L) * L)\n",
    "    r = np.sqrt(np.sum(rab ** 2))\n",
    "    z = sigma / r\n",
    "    F = -0.01 * 4 * eps * ((-12 * (z ** 12)) + (6 * (z ** 6))) / r\n",
    "    fv = abs(F) * rab / r\n",
    "    return fv"
   ]
  },
  {
   "cell_type": "code",
   "execution_count": 44,
   "metadata": {},
   "outputs": [],
   "source": [
    "def make_plot(title, xlab, ylab, plot):\n",
    "    plt.title(title)\n",
    "    plt.plot(plot)\n",
    "    plt.xlabel(xlab)\n",
    "    plt.ylabel(ylab)\n",
    "    plt.show()"
   ]
  },
  {
   "cell_type": "code",
   "execution_count": 45,
   "metadata": {},
   "outputs": [],
   "source": [
    "def get_minimum_potential(points):\n",
    "    force_plot = []\n",
    "    energy_plot = [get_total_interaction(points)]\n",
    "\n",
    "    iterations = 200\n",
    "    for k in range(iterations):\n",
    "        net_force = 0\n",
    "        force = np.zeros(points.shape)\n",
    "        for i in range(len(points)):\n",
    "            for j in range(i + 1, len(points)):\n",
    "                f = get_pair_force(points[j], points[i])\n",
    "                force[i] += f\n",
    "                force[j] -= f\n",
    "            points[i] += force[i]\n",
    "            net_force += np.sqrt(np.sum(force[i] ** 2))\n",
    "\n",
    "        force_plot.append(net_force)\n",
    "        energy_plot.append(get_total_interaction(points))\n",
    "\n",
    "        if net_force <= 0.01: break\n",
    "\n",
    "    make_plot('Force plot', 'Iterations', 'Force', force_plot)\n",
    "    make_plot('Energy plot', 'Iterations', 'Energy', energy_plot)\n",
    "\n",
    "    return points"
   ]
  },
  {
   "cell_type": "code",
   "execution_count": 34,
   "metadata": {},
   "outputs": [
    {
     "data": {
      "image/png": "[encoded data removed]",
      "text/plain": [
       "<Figure size 432x288 with 1 Axes>"
      ]
     },
     "metadata": {
      "needs_background": "light"
     },
     "output_type": "display_data"
    },
    {
     "data": {
      "image/png": "[encoded data removed]",
      "text/plain": [
       "<Figure size 432x288 with 1 Axes>"
      ]
     },
     "metadata": {
      "needs_background": "light"
     },
     "output_type": "display_data"
    }
   ],
   "source": [
    "new_config_points = get_minimum_potential(copy.deepcopy(points))\n",
    "write_config_file('./new_configurationEval.txt', new_config_points)"
   ]
  },
  {
   "cell_type": "markdown",
   "metadata": {},
   "source": [
    "## Calculation of interaction energies\n",
    "This calculation is done for knowing the values in Hessian matrix. The hessian matrix contains values as the second order derivatives of interaction energy. Therefore to approximate the derivative , we need to knw interaction energy of particles when they are displaced by small distance. The calculation time for this quite high, hence all the energy values are already stored in the file named as `hessianEnergy.txt`. Also we use multi-threading to speed up the process. To prevent data loss, on running the piece of code below, the data will be stored in `hessianEnergyEval.txt` "
   ]
  },
  {
   "cell_type": "code",
   "execution_count": 54,
   "metadata": {},
   "outputs": [],
   "source": [
    "energies = {}\n",
    "h = 0.005  # The small displacement as stated above\n",
    "particles = read_file('./new_configuration.txt')"
   ]
  },
  {
   "cell_type": "code",
   "execution_count": 55,
   "metadata": {},
   "outputs": [],
   "source": [
    "def add_energy(dic, key, points):\n",
    "    interaction = get_total_interaction(points)\n",
    "    dic[key] = interaction"
   ]
  },
  {
   "cell_type": "code",
   "execution_count": 56,
   "metadata": {},
   "outputs": [],
   "source": [
    "def processThreads(i, threadPool):\n",
    "    dispParticles = copy.deepcopy(particles)\n",
    "    print(i)\n",
    "    x, qx = i % 3, i // 3\n",
    "    for j in range(i):\n",
    "        y, qy = j % 3, j // 3\n",
    "        dispParticles[qx][x] += h\n",
    "        dispParticles[qy][y] += h\n",
    "        add_energy(threadPool, (i, j, 1, 1), dispParticles)\n",
    "        dispParticles[qx][x] -= 2 * h\n",
    "        dispParticles[qy][y] -= 2 * h\n",
    "        add_energy(threadPool, (i, j, -1, -1), dispParticles)\n",
    "        dispParticles[qx][x] += h\n",
    "        dispParticles[qy][y] += h"
   ]
  },
  {
   "cell_type": "code",
   "execution_count": 57,
   "metadata": {},
   "outputs": [],
   "source": [
    "def enableMultiThreading():\n",
    "    pool = Pool()\n",
    "    threadPool = Manager().dict()\n",
    "    pool.map(functools.partial(processThreads, pool_dict=threadPool), [i for i in range(3 * N)])\n",
    "    pool.close()\n",
    "    pool.join()\n",
    "    energies.update(threadPool)"
   ]
  },
  {
   "cell_type": "code",
   "execution_count": 58,
   "metadata": {},
   "outputs": [],
   "source": [
    "def displace_particles():\n",
    "    add_energy(energies, (0, 0, 0, 0), particles)\n",
    "    dispParticles = copy.deepcopy(particles)\n",
    "    for i in range(3 * N):\n",
    "        x, qx = i % 3, i // 3\n",
    "        dispParticles[qx][x] += h\n",
    "        add_energy(energies, (i, 0, 1, 0), dispParticles)\n",
    "        dispParticles[qx][x] -= 2 * h\n",
    "        add_energy(energies, (i, 0, -1, 0), dispParticles)\n",
    "        dispParticles[qx][x] += h\n",
    "    enableMultiThreading()"
   ]
  },
  {
   "cell_type": "code",
   "execution_count": null,
   "metadata": {},
   "outputs": [],
   "source": [
    "displace_particles()\n",
    "\n",
    "with open('hessianEnergyEval.txt', 'w') as fd:\n",
    "    for k, v in energies.items():\n",
    "        print(f\"{k} {v}\", file=fd)"
   ]
  },
  {
   "cell_type": "markdown",
   "metadata": {},
   "source": [
    "## Hessian Matrix Calculation\n",
    "The calculation is continued with `hessianEnergy.txt`. The matrix is stored in file `hessianMatrix.txt`"
   ]
  },
  {
   "cell_type": "code",
   "execution_count": 87,
   "metadata": {},
   "outputs": [],
   "source": [
    "energyHessian = {}\n",
    "\n",
    "\n",
    "def read_energies():\n",
    "    with open('hessianEnergy.txt') as f:\n",
    "        data = f.read().split('\\n')\n",
    "        for line in data[:-1]:\n",
    "            line = line.split(')')\n",
    "            key, value = line[0][1:], line[1][1:]\n",
    "            energyHessian[tuple(map(int, key.split(', ')))] = float(value)"
   ]
  },
  {
   "cell_type": "code",
   "execution_count": 88,
   "metadata": {},
   "outputs": [],
   "source": [
    "def get_hessian():\n",
    "    H = np.zeros((3 * N, 3 * N))\n",
    "    for i in range(H.shape[0]):\n",
    "        for j in range(i + 1):\n",
    "            dh2 = (h ** (-2))\n",
    "            if i == j:\n",
    "                H[i][i] = dh2 * (energyHessian[(i, 0, 1, 0)] + energyHessian[(i, 0, -1, 0)]\n",
    "                                 - 2 * energyHessian[(0, 0, 0, 0)])\n",
    "            else:\n",
    "                H[i][j] = 0.5 * dh2 * (energyHessian[(i, j, 1, 1)] + energyHessian[(i, j, -1, -1)]\n",
    "                                       - energyHessian[(i, 0, 1, 0)] - energyHessian[(j, 0, 1, 0)]\n",
    "                                       - energyHessian[(i, 0, -1, 0)] - energyHessian[(j, 0, -1, 0)]\n",
    "                                       + 2 * energyHessian[(0, 0, 0, 0)])\n",
    "                H[j][i] = H[i][j]\n",
    "    return H"
   ]
  },
  {
   "cell_type": "code",
   "execution_count": 89,
   "metadata": {},
   "outputs": [],
   "source": [
    "read_energies()\n",
    "H = get_hessian()\n",
    "\n",
    "with open('hessianMatrix.txt', 'w') as fd:\n",
    "    print('\\n'.join([' '.join([str(x) for x in row]) for row in H]), file=fd)"
   ]
  },
  {
   "cell_type": "markdown",
   "metadata": {},
   "source": [
    "## Eigen values and vectors of Hessian Matrix\n",
    "The corresponding eigen values and eigen vectors for the hessian matrix are stored in `eigenValues.txt` and `eigenVectors.txt`."
   ]
  },
  {
   "cell_type": "code",
   "execution_count": 90,
   "metadata": {},
   "outputs": [],
   "source": [
    "def get_eigen():\n",
    "    return LA.eig(H)"
   ]
  },
  {
   "cell_type": "code",
   "execution_count": 91,
   "metadata": {},
   "outputs": [],
   "source": [
    "values, vectors = get_eigen()\n",
    "\n",
    "with open('eigenValues.txt', 'w') as fd:\n",
    "    print('\\n'.join([str(x) for x in values]), file=fd)\n",
    "\n",
    "with open('eigenVectors.txt', 'w')as fd:\n",
    "    print('\\n'.join([str(x) for x in vectors]), file=fd)"
   ]
  },
  {
   "cell_type": "markdown",
   "metadata": {},
   "source": [
    "## Vibrational Frequencies Histogram\n",
    "The vibrational frequency histogram is basically making a histogram of eigen values obtained from the Hessian matrix."
   ]
  },
  {
   "cell_type": "code",
   "execution_count": 92,
   "metadata": {},
   "outputs": [],
   "source": [
    "def make_histogram():\n",
    "    minimum_v = min(values) - 1\n",
    "    maximum_v = max(values) + 2\n",
    "\n",
    "    bins = np.arange(minimum_v, maximum_v, 1)\n",
    "    fig, ax = plt.subplots(1, 1, figsize=(10, 7))\n",
    "    ax.hist(values, bins=bins, ec='black')\n",
    "    ax.set_xlabel('Values')\n",
    "    ax.set_ylabel('Frequency of eigen values')\n",
    "    plt.show()"
   ]
  },
  {
   "cell_type": "code",
   "execution_count": 93,
   "metadata": {},
   "outputs": [
    {
     "data": {
      "image/png": "[encoded data removed]",
      "text/plain": [
       "<Figure size 720x504 with 1 Axes>"
      ]
     },
     "metadata": {
      "needs_background": "light"
     },
     "output_type": "display_data"
    }
   ],
   "source": [
    "make_histogram()"
   ]
  },
  {
   "cell_type": "code",
   "execution_count": null,
   "metadata": {},
   "outputs": [],
   "source": []
  }
 ],
 "metadata": {
  "kernelspec": {
   "display_name": "Python 3",
   "language": "python",
   "name": "python3"
  },
  "language_info": {
   "codemirror_mode": {
    "name": "ipython",
    "version": 3
   },
   "file_extension": ".py",
   "mimetype": "text/x-python",
   "name": "python",
   "nbconvert_exporter": "python",
   "pygments_lexer": "ipython3",
   "version": "3.8.5"
  }
 },
 "nbformat": 4,
 "nbformat_minor": 4
}